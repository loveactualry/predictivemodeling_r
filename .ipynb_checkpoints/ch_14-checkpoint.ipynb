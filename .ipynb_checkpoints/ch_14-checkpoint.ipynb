{
 "cells": [
  {
   "cell_type": "markdown",
   "metadata": {},
   "source": [
    "### ch14 분류 트리 기반 모델\n",
    "\n",
    "- Env : Jupyter Lab, R 3.6.4, Windows 10\n",
    "- R on Jupyerlab about install : https://yahwang.github.io/posts/27\n",
    "- book site : http://appliedpredictivemodeling.com/\n"
   ]
  },
  {
   "cell_type": "markdown",
   "metadata": {},
   "source": [
    "- 분류 트리는 트리 기반, 회귀 모델과 유사\n",
    "- 다중 if then 구문\n",
    "- EX\n",
    "if Predictor B >= 1.197 then\n",
    "    if Predictor A>= 0.13 then Class = 1\n",
    "    else Class = 2\n",
    "else Class = 2\n",
    "\n",
    "\n",
    "- 3개 구역, 클래스 1,2 로 나뉨.\n",
    "    - if Predictor A >= 0.13 and Predictor B >= 0.197 then Class = 1\n",
    "    - if Predictor A >= 0.13 and Predictor B < 0.197 then Class = 2\n",
    "    - if Predictor A < 0.13 then Class = 2\n",
    "    "
   ]
  },
  {
   "cell_type": "markdown",
   "metadata": {},
   "source": [
    "   "
   ]
  },
  {
   "cell_type": "markdown",
   "metadata": {},
   "source": [
    "#### 14.1 기본 분류 트리\n",
    "\n",
    "- 목적 : 데이터를 보다 작고 동질적 그룹으로 분할\n",
    "    - 동질성 : 분기별 노드가 순수한 성격을 갖는 것(노드별 동일 클래스 비율이 높은 경우)\n",
    "    - 순수란? : 정확도를 높이거나 오분류를 낮춘다.\n",
    "        - 문제점 : 오 분류 최소화 하는 방식으로 데이터 분할.(1종오류, 2종오류, Precision, Recall 의 차이 일까?)\n",
    "        \n",
    "- 대안 : 지니 계수, 교차 엔트로피\n",
    "    - 편차, 정보량 => 순도에 목적\\\n",
    "        $p_1(1-p_1) + p_2(1-p_2)$\n",
    "        \n",
    "    - p1, p2 는 클래스1과 클래스2에 대한 확률 p1+p2 = 1, 2p1p2\n",
    "    - 한 클래스가 0에 수렴할 수록 값이 작아진다\n",
    "        - 노드가 하나의 클래스로 수렴한다는 의미.\n",
    "        - 지니계수가 작을수록 한쪽으로 분류된다 이해"
   ]
  },
  {
   "cell_type": "markdown",
   "metadata": {},
   "source": [
    "- 응답변수가 이항변수 인 경우 2X2 분할표 나옴\n",
    "    - 분기 전과 분기 후의 식이 달라진다. 지니 계수 계산 해봤으니 알고 있음.\n",
    "    - https://datascienceschool.net/view-notebook/8bb5f4868f4e4a318d334ff0d9227d53/\n",
    "    \n",
    "- 예제\n",
    "    - 분기점 분할 예제"
   ]
  },
  {
   "cell_type": "code",
   "execution_count": null,
   "metadata": {},
   "outputs": [],
   "source": []
  }
 ],
 "metadata": {
  "kernelspec": {
   "display_name": "R",
   "language": "R",
   "name": "ir"
  },
  "language_info": {
   "codemirror_mode": "r",
   "file_extension": ".r",
   "mimetype": "text/x-r-source",
   "name": "R",
   "pygments_lexer": "r",
   "version": "3.6.1"
  }
 },
 "nbformat": 4,
 "nbformat_minor": 4
}
